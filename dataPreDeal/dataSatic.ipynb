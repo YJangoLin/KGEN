{
 "cells": [
  {
   "cell_type": "code",
   "execution_count": 23,
   "metadata": {},
   "outputs": [],
   "source": [
    "import pandas as pd\n",
    "import os"
   ]
  },
  {
   "cell_type": "code",
   "execution_count": 24,
   "metadata": {},
   "outputs": [
    {
     "data": {
      "text/html": [
       "<div>\n",
       "<style scoped>\n",
       "    .dataframe tbody tr th:only-of-type {\n",
       "        vertical-align: middle;\n",
       "    }\n",
       "\n",
       "    .dataframe tbody tr th {\n",
       "        vertical-align: top;\n",
       "    }\n",
       "\n",
       "    .dataframe thead th {\n",
       "        text-align: right;\n",
       "    }\n",
       "</style>\n",
       "<table border=\"1\" class=\"dataframe\">\n",
       "  <thead>\n",
       "    <tr style=\"text-align: right;\">\n",
       "      <th></th>\n",
       "      <th>lEntity</th>\n",
       "      <th>Rela</th>\n",
       "      <th>rEntity</th>\n",
       "      <th>type</th>\n",
       "    </tr>\n",
       "  </thead>\n",
       "  <tbody>\n",
       "    <tr>\n",
       "      <th>0</th>\n",
       "      <td>aorta</td>\n",
       "      <td>is</td>\n",
       "      <td>tortuous</td>\n",
       "      <td>Aorta_tortuous</td>\n",
       "    </tr>\n",
       "    <tr>\n",
       "      <th>1</th>\n",
       "      <td>aorta</td>\n",
       "      <td>is</td>\n",
       "      <td>calcified</td>\n",
       "      <td>Aorta_tortuous</td>\n",
       "    </tr>\n",
       "    <tr>\n",
       "      <th>2</th>\n",
       "      <td>aorta</td>\n",
       "      <td>is</td>\n",
       "      <td>ectatic</td>\n",
       "      <td>Aorta_tortuous</td>\n",
       "    </tr>\n",
       "    <tr>\n",
       "      <th>3</th>\n",
       "      <td>aorta</td>\n",
       "      <td>is</td>\n",
       "      <td>unfolded</td>\n",
       "      <td>Aorta_tortuous</td>\n",
       "    </tr>\n",
       "    <tr>\n",
       "      <th>4</th>\n",
       "      <td>aorta</td>\n",
       "      <td>has</td>\n",
       "      <td>atherosclerotic calcifications</td>\n",
       "      <td>Aorta_tortuous</td>\n",
       "    </tr>\n",
       "  </tbody>\n",
       "</table>\n",
       "</div>"
      ],
      "text/plain": [
       "  lEntity Rela                         rEntity            type\n",
       "0   aorta   is                        tortuous  Aorta_tortuous\n",
       "1   aorta   is                       calcified  Aorta_tortuous\n",
       "2   aorta   is                         ectatic  Aorta_tortuous\n",
       "3   aorta   is                        unfolded  Aorta_tortuous\n",
       "4   aorta  has  atherosclerotic calcifications  Aorta_tortuous"
      ]
     },
     "execution_count": 24,
     "metadata": {},
     "output_type": "execute_result"
    }
   ],
   "source": [
    "fileRootDir = \"output/rela\"\n",
    "fileList = os.listdir(\"output/rela\")\n",
    "data = []\n",
    "for file in fileList:\n",
    "    dataDf = pd.read_csv(os.path.join(fileRootDir, file))\n",
    "    dataDf[\"type\"] = file.replace(\"_result_er.csv\", \"\")\n",
    "    data.append(dataDf)\n",
    "mergeDf = pd.concat(data, axis=0)\n",
    "mergeDf.head()"
   ]
  },
  {
   "cell_type": "code",
   "execution_count": 25,
   "metadata": {},
   "outputs": [
    {
     "data": {
      "text/plain": [
       "Rela\n",
       "is                        1610\n",
       "location                  1234\n",
       "are                       1068\n",
       "condition                  715\n",
       "presence                   617\n",
       "                          ... \n",
       "are not present in           2\n",
       "projecting adjacent to       1\n",
       "most XXXX representing       1\n",
       "could represent              1\n",
       "is present without           1\n",
       "Name: count, Length: 99, dtype: int64"
      ]
     },
     "execution_count": 25,
     "metadata": {},
     "output_type": "execute_result"
    }
   ],
   "source": [
    "mergeDf[\"Rela\"].value_counts()"
   ]
  },
  {
   "cell_type": "code",
   "execution_count": 26,
   "metadata": {},
   "outputs": [
    {
     "data": {
      "text/plain": [
       "Rela\n",
       "be                        2678\n",
       "location                  1234\n",
       "condition                  715\n",
       "presence                   617\n",
       "status                     516\n",
       "                          ... \n",
       "may be due to                2\n",
       "projecting adjacent to       1\n",
       "most XXXX representing       1\n",
       "could represent              1\n",
       "be present without           1\n",
       "Name: count, Length: 93, dtype: int64"
      ]
     },
     "execution_count": 26,
     "metadata": {},
     "output_type": "execute_result"
    }
   ],
   "source": [
    "# 把包含is， are， be的全部转换为be\n",
    "mergeDf[\"Rela\"].replace(\"is|are\", \"be\", regex=True, inplace=True)\n",
    "# mergeDf.loc[mergeDf[\"Rela\"] == \"are\", \"Rela\"] = \"be\"\n",
    "mergeDf[\"Rela\"].value_counts()"
   ]
  },
  {
   "cell_type": "code",
   "execution_count": 27,
   "metadata": {},
   "outputs": [],
   "source": [
    "# represent representing \n",
    "# adjacent\n",
    "# cause\n",
    "# associated association\n",
    "# show no, shows no\n",
    "# shows 和 show合并\n",
    "# 如果单词以s结尾把s去掉\n",
    "# countRelaDf = mergeDf[\"Rela\"].value_counts()\n",
    "# countRelaDf[countRelaDf < 100].to_csv(\"a.csv\")\n",
    "mergeDf.loc[mergeDf[\"Rela\"].str.contains(\"represent\"), \"Rela\"] = \"represent\"\n",
    "mergeDf.loc[mergeDf[\"Rela\"].str.contains(\"adjacent\"), \"Rela\"] = \"adjacent\"\n",
    "mergeDf.loc[mergeDf[\"Rela\"].str.contains(\"cause\"), \"Rela\"] = \"cause\"\n",
    "mergeDf.loc[mergeDf[\"Rela\"].str.contains(\"associat\"), \"Rela\"] = \"associate\"\n",
    "mergeDf.loc[mergeDf[\"Rela\"].str.contains(\"evidence\"), \"Rela\"] = \"represent\"\n",
    "mergeDf.loc[mergeDf[\"Rela\"].str.contains(\"appear\"), \"Rela\"] = \"appearance\"\n",
    "mergeDf.loc[mergeDf[\"Rela\"] == \"has\", \"Rela\"] = \"have\"\n",
    "mergeDf.loc[mergeDf[\"Rela\"].str.contains(\"location|position\"), \"Rela\"] = \"appearance\"\n",
    "# mergeDf.loc[mergeDf[\"Rela\"] == \"has\", \"Rela\"] = \"have\"\n",
    "# mergeDf[\"Rela\"].str.replace(\"shows\", \"show\")"
   ]
  },
  {
   "cell_type": "code",
   "execution_count": 28,
   "metadata": {},
   "outputs": [],
   "source": [
    "# countRelaDf.to_csv(\"a.csv\")\n",
    "mergeDf[\"Rela\"] = mergeDf[\"Rela\"].str.replace(\"shows\", \"show\")"
   ]
  },
  {
   "cell_type": "code",
   "execution_count": 29,
   "metadata": {},
   "outputs": [
    {
     "data": {
      "text/plain": [
       "Index(['contour', 'quantity', 'temporal change', 'follow-up', 'contains',\n",
       "       'hbetory', 'be not', 'changes be', 'dbetribution', 'shape', 'view',\n",
       "       'degree', 'possibility', 'pattern', 'side', 'opacity', 'laterality',\n",
       "       'be present', 'be present on', 'be present with', 'density', 'margins',\n",
       "       'quality', 'healing status', 'comparbeon', 'hyperexpansion', 'extent',\n",
       "       'recommendation', 'sparing', 'may be secondary to', 'be present under',\n",
       "       'compatible with', 'be present around', 'terminates in', 'extend to',\n",
       "       'suggesting effusion', 'suggesting pneumothorax',\n",
       "       'may be consbetent with', 'be elevated', 'may be present in',\n",
       "       'present with', 'traverses', 'has been', 'be status post', 'adjacent',\n",
       "       'may be due to', 'be stable with', 'courses below',\n",
       "       'be consbetent with', 'measures', 'be not present in',\n",
       "       'be present without'],\n",
       "      dtype='object', name='Rela')"
      ]
     },
     "execution_count": 29,
     "metadata": {},
     "output_type": "execute_result"
    }
   ],
   "source": [
    "countRelaDf = mergeDf[\"Rela\"].value_counts()\n",
    "countDfIndex = countRelaDf[countRelaDf < 50].index\n",
    "countDfIndex\n",
    "# mergeDf.drop(mergeDf[mergeDf[\"Rela\"].isin(countDfIndex)], axis=1)"
   ]
  },
  {
   "cell_type": "code",
   "execution_count": 30,
   "metadata": {},
   "outputs": [],
   "source": [
    "mergeDf[\"lEntity\"] = mergeDf[\"lEntity\"].str.replace(\"(\", \"\").str.replace(\")\", \"\")\n",
    "mergeDf[\"rEntity\"] = mergeDf[\"rEntity\"].str.replace(\"(\", \"\").str.replace(\")\", \"\")\n",
    "mergeDf[~mergeDf[\"Rela\"].isin(countDfIndex)].to_csv(\"aaa.csv\", index=False)"
   ]
  },
  {
   "cell_type": "code",
   "execution_count": 31,
   "metadata": {},
   "outputs": [
    {
     "data": {
      "text/plain": [
       "23"
      ]
     },
     "execution_count": 31,
     "metadata": {},
     "output_type": "execute_result"
    }
   ],
   "source": [
    "mergeDf[~mergeDf[\"Rela\"].isin(countDfIndex)][\"Rela\"].nunique()"
   ]
  },
  {
   "cell_type": "code",
   "execution_count": 32,
   "metadata": {},
   "outputs": [
    {
     "data": {
      "text/plain": [
       "Rela\n",
       "be                        2678\n",
       "appearance                1680\n",
       "condition                  715\n",
       "presence                   617\n",
       "status                     516\n",
       "size                       439\n",
       "show                       356\n",
       "represent                  285\n",
       "be present in              230\n",
       "have                       226\n",
       "located in                 187\n",
       "affects                    180\n",
       "associate                  139\n",
       "show no                    105\n",
       "severity                    97\n",
       "type                        95\n",
       "differential diagnosbe      83\n",
       "stability                   69\n",
       "may be                      63\n",
       "clinical significance       61\n",
       "number                      60\n",
       "calcification               50\n",
       "cause                       50\n",
       "Name: count, dtype: int64"
      ]
     },
     "execution_count": 32,
     "metadata": {},
     "output_type": "execute_result"
    }
   ],
   "source": [
    "mergeDf[~mergeDf[\"Rela\"].isin(countDfIndex)][\"Rela\"].value_counts()"
   ]
  },
  {
   "cell_type": "code",
   "execution_count": 33,
   "metadata": {},
   "outputs": [
    {
     "data": {
      "text/plain": [
       "rEntity\n",
       "present                                     768\n",
       "normal                                      695\n",
       "yes                                         385\n",
       "absent                                      206\n",
       "small                                       192\n",
       "                                           ... \n",
       "obscured                                      1\n",
       "overt edema                                   1\n",
       "larger than right                             1\n",
       "consistent with CHF                           1\n",
       "XXXX in left lateral costophrenic recess      1\n",
       "Name: count, Length: 504, dtype: int64"
      ]
     },
     "execution_count": 33,
     "metadata": {},
     "output_type": "execute_result"
    }
   ],
   "source": [
    "mergeDf[\"rEntity\"].value_counts()"
   ]
  },
  {
   "cell_type": "code",
   "execution_count": null,
   "metadata": {},
   "outputs": [],
   "source": []
  }
 ],
 "metadata": {
  "kernelspec": {
   "display_name": "kkmnet",
   "language": "python",
   "name": "python3"
  },
  "language_info": {
   "codemirror_mode": {
    "name": "ipython",
    "version": 3
   },
   "file_extension": ".py",
   "mimetype": "text/x-python",
   "name": "python",
   "nbconvert_exporter": "python",
   "pygments_lexer": "ipython3",
   "version": "3.8.19"
  }
 },
 "nbformat": 4,
 "nbformat_minor": 2
}
