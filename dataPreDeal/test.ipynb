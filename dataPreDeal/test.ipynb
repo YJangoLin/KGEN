{
 "cells": [
  {
   "cell_type": "code",
   "execution_count": 1,
   "metadata": {},
   "outputs": [],
   "source": [
    "import numpy as np\n",
    "import pandas as pd"
   ]
  },
  {
   "cell_type": "code",
   "execution_count": 11,
   "metadata": {},
   "outputs": [],
   "source": [
    "clsDist, entityDict, relaDict = {}, {}, {}\n",
    "with open(\"data/cls.txt\", \"r\") as f:\n",
    "    lines = f.readlines()\n",
    "    for line in lines:\n",
    "        data = line.replace(\"\\n\", \"\").split(\"\\t\")\n",
    "        clsDist[data[1]] = data[0]\n",
    "with open(\"data/entities.tsv\", \"r\") as f:\n",
    "    lines = f.readlines()\n",
    "    for line in lines:\n",
    "        data = line.replace(\"\\n\", \"\").split(\"\\t\")\n",
    "        entityDict[data[1]] = data[0]\n",
    "with open(\"data/relations.tsv\", \"r\") as f:\n",
    "    lines = f.readlines()\n",
    "    for line in lines:\n",
    "        data = line.replace(\"\\n\", \"\").split(\"\\t\")\n",
    "        relaDict[data[1]] = data[0]"
   ]
  },
  {
   "cell_type": "code",
   "execution_count": 14,
   "metadata": {},
   "outputs": [
    {
     "data": {
      "text/html": [
       "<div>\n",
       "<style scoped>\n",
       "    .dataframe tbody tr th:only-of-type {\n",
       "        vertical-align: middle;\n",
       "    }\n",
       "\n",
       "    .dataframe tbody tr th {\n",
       "        vertical-align: top;\n",
       "    }\n",
       "\n",
       "    .dataframe thead th {\n",
       "        text-align: right;\n",
       "    }\n",
       "</style>\n",
       "<table border=\"1\" class=\"dataframe\">\n",
       "  <thead>\n",
       "    <tr style=\"text-align: right;\">\n",
       "      <th></th>\n",
       "      <th>lEntity</th>\n",
       "      <th>Rela</th>\n",
       "      <th>rEntity</th>\n",
       "      <th>type</th>\n",
       "    </tr>\n",
       "  </thead>\n",
       "  <tbody>\n",
       "    <tr>\n",
       "      <th>0</th>\n",
       "      <td>aorta</td>\n",
       "      <td>be</td>\n",
       "      <td>tortuous</td>\n",
       "      <td>Aorta_tortuous</td>\n",
       "    </tr>\n",
       "    <tr>\n",
       "      <th>1</th>\n",
       "      <td>aorta</td>\n",
       "      <td>be</td>\n",
       "      <td>calcified</td>\n",
       "      <td>Aorta_tortuous</td>\n",
       "    </tr>\n",
       "    <tr>\n",
       "      <th>2</th>\n",
       "      <td>aorta</td>\n",
       "      <td>be</td>\n",
       "      <td>ectatic</td>\n",
       "      <td>Aorta_tortuous</td>\n",
       "    </tr>\n",
       "    <tr>\n",
       "      <th>3</th>\n",
       "      <td>aorta</td>\n",
       "      <td>be</td>\n",
       "      <td>unfolded</td>\n",
       "      <td>Aorta_tortuous</td>\n",
       "    </tr>\n",
       "    <tr>\n",
       "      <th>4</th>\n",
       "      <td>aorta</td>\n",
       "      <td>have</td>\n",
       "      <td>atherosclerotic calcifications</td>\n",
       "      <td>Aorta_tortuous</td>\n",
       "    </tr>\n",
       "  </tbody>\n",
       "</table>\n",
       "</div>"
      ],
      "text/plain": [
       "  lEntity  Rela                         rEntity            type\n",
       "0   aorta    be                        tortuous  Aorta_tortuous\n",
       "1   aorta    be                       calcified  Aorta_tortuous\n",
       "2   aorta    be                         ectatic  Aorta_tortuous\n",
       "3   aorta    be                        unfolded  Aorta_tortuous\n",
       "4   aorta  have  atherosclerotic calcifications  Aorta_tortuous"
      ]
     },
     "execution_count": 14,
     "metadata": {},
     "output_type": "execute_result"
    }
   ],
   "source": [
    "dataDf = pd.read_csv(\"data/data.csv\")\n",
    "dataDf.head()"
   ]
  },
  {
   "cell_type": "code",
   "execution_count": 17,
   "metadata": {},
   "outputs": [],
   "source": [
    "dataDf[\"le\"] = dataDf[\"lEntity\"].apply(lambda x: entityDict.get(x))\n",
    "dataDf[\"re\"] = dataDf[\"rEntity\"].apply(lambda x: entityDict.get(x))\n",
    "dataDf[\"rela\"] = dataDf[\"Rela\"].apply(lambda x: relaDict.get(x))\n",
    "dataDf[\"cls\"] = dataDf[\"type\"].apply(lambda x: clsDist.get(x))"
   ]
  },
  {
   "cell_type": "code",
   "execution_count": 20,
   "metadata": {},
   "outputs": [
    {
     "data": {
      "text/plain": [
       "0"
      ]
     },
     "execution_count": 20,
     "metadata": {},
     "output_type": "execute_result"
    }
   ],
   "source": [
    "dataDf[\"cls\"].isna().sum()"
   ]
  },
  {
   "cell_type": "code",
   "execution_count": 21,
   "metadata": {},
   "outputs": [
    {
     "data": {
      "text/html": [
       "<div>\n",
       "<style scoped>\n",
       "    .dataframe tbody tr th:only-of-type {\n",
       "        vertical-align: middle;\n",
       "    }\n",
       "\n",
       "    .dataframe tbody tr th {\n",
       "        vertical-align: top;\n",
       "    }\n",
       "\n",
       "    .dataframe thead th {\n",
       "        text-align: right;\n",
       "    }\n",
       "</style>\n",
       "<table border=\"1\" class=\"dataframe\">\n",
       "  <thead>\n",
       "    <tr style=\"text-align: right;\">\n",
       "      <th></th>\n",
       "      <th>lEntity</th>\n",
       "      <th>Rela</th>\n",
       "      <th>rEntity</th>\n",
       "      <th>type</th>\n",
       "      <th>le</th>\n",
       "      <th>re</th>\n",
       "      <th>rela</th>\n",
       "      <th>cls</th>\n",
       "    </tr>\n",
       "  </thead>\n",
       "  <tbody>\n",
       "    <tr>\n",
       "      <th>0</th>\n",
       "      <td>aorta</td>\n",
       "      <td>be</td>\n",
       "      <td>tortuous</td>\n",
       "      <td>Aorta_tortuous</td>\n",
       "      <td>336</td>\n",
       "      <td>432</td>\n",
       "      <td>0</td>\n",
       "      <td>0</td>\n",
       "    </tr>\n",
       "    <tr>\n",
       "      <th>1</th>\n",
       "      <td>aorta</td>\n",
       "      <td>be</td>\n",
       "      <td>calcified</td>\n",
       "      <td>Aorta_tortuous</td>\n",
       "      <td>336</td>\n",
       "      <td>494</td>\n",
       "      <td>0</td>\n",
       "      <td>0</td>\n",
       "    </tr>\n",
       "    <tr>\n",
       "      <th>2</th>\n",
       "      <td>aorta</td>\n",
       "      <td>be</td>\n",
       "      <td>ectatic</td>\n",
       "      <td>Aorta_tortuous</td>\n",
       "      <td>336</td>\n",
       "      <td>22</td>\n",
       "      <td>0</td>\n",
       "      <td>0</td>\n",
       "    </tr>\n",
       "    <tr>\n",
       "      <th>3</th>\n",
       "      <td>aorta</td>\n",
       "      <td>be</td>\n",
       "      <td>unfolded</td>\n",
       "      <td>Aorta_tortuous</td>\n",
       "      <td>336</td>\n",
       "      <td>547</td>\n",
       "      <td>0</td>\n",
       "      <td>0</td>\n",
       "    </tr>\n",
       "    <tr>\n",
       "      <th>4</th>\n",
       "      <td>aorta</td>\n",
       "      <td>have</td>\n",
       "      <td>atherosclerotic calcifications</td>\n",
       "      <td>Aorta_tortuous</td>\n",
       "      <td>336</td>\n",
       "      <td>730</td>\n",
       "      <td>1</td>\n",
       "      <td>0</td>\n",
       "    </tr>\n",
       "  </tbody>\n",
       "</table>\n",
       "</div>"
      ],
      "text/plain": [
       "  lEntity  Rela                         rEntity            type   le   re  \\\n",
       "0   aorta    be                        tortuous  Aorta_tortuous  336  432   \n",
       "1   aorta    be                       calcified  Aorta_tortuous  336  494   \n",
       "2   aorta    be                         ectatic  Aorta_tortuous  336   22   \n",
       "3   aorta    be                        unfolded  Aorta_tortuous  336  547   \n",
       "4   aorta  have  atherosclerotic calcifications  Aorta_tortuous  336  730   \n",
       "\n",
       "  rela cls  \n",
       "0    0   0  \n",
       "1    0   0  \n",
       "2    0   0  \n",
       "3    0   0  \n",
       "4    1   0  "
      ]
     },
     "execution_count": 21,
     "metadata": {},
     "output_type": "execute_result"
    }
   ],
   "source": [
    "dataDf.head()"
   ]
  },
  {
   "cell_type": "code",
   "execution_count": 22,
   "metadata": {},
   "outputs": [],
   "source": [
    "dataDf.to_csv(\"data/data.csv\", index=False)"
   ]
  },
  {
   "cell_type": "code",
   "execution_count": 23,
   "metadata": {},
   "outputs": [
    {
     "ename": "ModuleNotFoundError",
     "evalue": "No module named 'torch.nn.GraphConv'",
     "output_type": "error",
     "traceback": [
      "\u001b[1;31m---------------------------------------------------------------------------\u001b[0m",
      "\u001b[1;31mModuleNotFoundError\u001b[0m                       Traceback (most recent call last)",
      "\u001b[1;32m~\\AppData\\Local\\Temp/ipykernel_15412/2127321259.py\u001b[0m in \u001b[0;36m<module>\u001b[1;34m\u001b[0m\n\u001b[1;32m----> 1\u001b[1;33m \u001b[1;32mimport\u001b[0m \u001b[0mtorch\u001b[0m\u001b[1;33m.\u001b[0m\u001b[0mnn\u001b[0m\u001b[1;33m.\u001b[0m\u001b[0mGraphConv\u001b[0m\u001b[1;33m\u001b[0m\u001b[1;33m\u001b[0m\u001b[0m\n\u001b[0m",
      "\u001b[1;31mModuleNotFoundError\u001b[0m: No module named 'torch.nn.GraphConv'"
     ]
    }
   ],
   "source": []
  },
  {
   "cell_type": "code",
   "execution_count": null,
   "metadata": {},
   "outputs": [],
   "source": []
  }
 ],
 "metadata": {
  "kernelspec": {
   "display_name": "base",
   "language": "python",
   "name": "python3"
  },
  "language_info": {
   "codemirror_mode": {
    "name": "ipython",
    "version": 3
   },
   "file_extension": ".py",
   "mimetype": "text/x-python",
   "name": "python",
   "nbconvert_exporter": "python",
   "pygments_lexer": "ipython3",
   "version": "3.9.7"
  }
 },
 "nbformat": 4,
 "nbformat_minor": 2
}
